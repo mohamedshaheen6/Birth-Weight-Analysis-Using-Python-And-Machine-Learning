{
 "cells": [
  {
   "cell_type": "code",
   "execution_count": 352,
   "id": "06c9c733-1fed-436c-9f53-8227b0c64369",
   "metadata": {},
   "outputs": [],
   "source": [
    "#importing libraries\n",
    "\n",
    "import pandas as pd\n",
    "import numpy as np\n",
    "import matplotlib.pyplot as plt\n",
    "import seaborn as sns"
   ]
  },
  {
   "cell_type": "code",
   "execution_count": 353,
   "id": "19912bae-a5fe-47c3-bd33-1fce83eb10c3",
   "metadata": {},
   "outputs": [
    {
     "data": {
      "text/html": [
       "<div>\n",
       "<style scoped>\n",
       "    .dataframe tbody tr th:only-of-type {\n",
       "        vertical-align: middle;\n",
       "    }\n",
       "\n",
       "    .dataframe tbody tr th {\n",
       "        vertical-align: top;\n",
       "    }\n",
       "\n",
       "    .dataframe thead th {\n",
       "        text-align: right;\n",
       "    }\n",
       "</style>\n",
       "<table border=\"1\" class=\"dataframe\">\n",
       "  <thead>\n",
       "    <tr style=\"text-align: right;\">\n",
       "      <th></th>\n",
       "      <th>case</th>\n",
       "      <th>bwt</th>\n",
       "      <th>gestation</th>\n",
       "      <th>parity</th>\n",
       "      <th>age</th>\n",
       "      <th>height</th>\n",
       "      <th>weight</th>\n",
       "      <th>smoke</th>\n",
       "    </tr>\n",
       "  </thead>\n",
       "  <tbody>\n",
       "    <tr>\n",
       "      <th>0</th>\n",
       "      <td>1</td>\n",
       "      <td>120</td>\n",
       "      <td>284.0</td>\n",
       "      <td>0</td>\n",
       "      <td>27.0</td>\n",
       "      <td>62.0</td>\n",
       "      <td>100.0</td>\n",
       "      <td>0.0</td>\n",
       "    </tr>\n",
       "    <tr>\n",
       "      <th>1</th>\n",
       "      <td>2</td>\n",
       "      <td>113</td>\n",
       "      <td>282.0</td>\n",
       "      <td>0</td>\n",
       "      <td>33.0</td>\n",
       "      <td>64.0</td>\n",
       "      <td>135.0</td>\n",
       "      <td>0.0</td>\n",
       "    </tr>\n",
       "    <tr>\n",
       "      <th>2</th>\n",
       "      <td>3</td>\n",
       "      <td>128</td>\n",
       "      <td>279.0</td>\n",
       "      <td>0</td>\n",
       "      <td>28.0</td>\n",
       "      <td>64.0</td>\n",
       "      <td>115.0</td>\n",
       "      <td>1.0</td>\n",
       "    </tr>\n",
       "    <tr>\n",
       "      <th>3</th>\n",
       "      <td>4</td>\n",
       "      <td>123</td>\n",
       "      <td>NaN</td>\n",
       "      <td>0</td>\n",
       "      <td>36.0</td>\n",
       "      <td>69.0</td>\n",
       "      <td>190.0</td>\n",
       "      <td>0.0</td>\n",
       "    </tr>\n",
       "    <tr>\n",
       "      <th>4</th>\n",
       "      <td>5</td>\n",
       "      <td>108</td>\n",
       "      <td>282.0</td>\n",
       "      <td>0</td>\n",
       "      <td>23.0</td>\n",
       "      <td>67.0</td>\n",
       "      <td>125.0</td>\n",
       "      <td>1.0</td>\n",
       "    </tr>\n",
       "  </tbody>\n",
       "</table>\n",
       "</div>"
      ],
      "text/plain": [
       "   case  bwt  gestation  parity   age  height  weight  smoke\n",
       "0     1  120      284.0       0  27.0    62.0   100.0    0.0\n",
       "1     2  113      282.0       0  33.0    64.0   135.0    0.0\n",
       "2     3  128      279.0       0  28.0    64.0   115.0    1.0\n",
       "3     4  123        NaN       0  36.0    69.0   190.0    0.0\n",
       "4     5  108      282.0       0  23.0    67.0   125.0    1.0"
      ]
     },
     "execution_count": 353,
     "metadata": {},
     "output_type": "execute_result"
    }
   ],
   "source": [
    "#loading data \n",
    "\n",
    "df = pd.read_csv(r\"E:\\DS SM\\PortfolioProjects\\Birth Weight Analysis\\data\\babies.csv\")\n",
    "df.head()"
   ]
  },
  {
   "cell_type": "markdown",
   "id": "e3eae26d-be66-4282-8cf3-60e0427ea2bf",
   "metadata": {},
   "source": [
    "## Exploratory Data Analysis"
   ]
  },
  {
   "cell_type": "code",
   "execution_count": 354,
   "id": "246bb800-70a6-4427-940b-c756754bd1b9",
   "metadata": {},
   "outputs": [
    {
     "data": {
      "text/plain": [
       "(1236, 8)"
      ]
     },
     "execution_count": 354,
     "metadata": {},
     "output_type": "execute_result"
    }
   ],
   "source": [
    "df.shape"
   ]
  },
  {
   "cell_type": "code",
   "execution_count": 355,
   "id": "3e3bc559-7005-4f1d-a2ce-3da5f0a40201",
   "metadata": {},
   "outputs": [
    {
     "data": {
      "text/html": [
       "<div>\n",
       "<style scoped>\n",
       "    .dataframe tbody tr th:only-of-type {\n",
       "        vertical-align: middle;\n",
       "    }\n",
       "\n",
       "    .dataframe tbody tr th {\n",
       "        vertical-align: top;\n",
       "    }\n",
       "\n",
       "    .dataframe thead th {\n",
       "        text-align: right;\n",
       "    }\n",
       "</style>\n",
       "<table border=\"1\" class=\"dataframe\">\n",
       "  <thead>\n",
       "    <tr style=\"text-align: right;\">\n",
       "      <th></th>\n",
       "      <th>case</th>\n",
       "      <th>bwt</th>\n",
       "      <th>gestation</th>\n",
       "      <th>parity</th>\n",
       "      <th>age</th>\n",
       "      <th>height</th>\n",
       "      <th>weight</th>\n",
       "      <th>smoke</th>\n",
       "    </tr>\n",
       "  </thead>\n",
       "  <tbody>\n",
       "    <tr>\n",
       "      <th>count</th>\n",
       "      <td>1236.000000</td>\n",
       "      <td>1236.000000</td>\n",
       "      <td>1223.000000</td>\n",
       "      <td>1236.000000</td>\n",
       "      <td>1234.000000</td>\n",
       "      <td>1214.000000</td>\n",
       "      <td>1200.000000</td>\n",
       "      <td>1226.000000</td>\n",
       "    </tr>\n",
       "    <tr>\n",
       "      <th>mean</th>\n",
       "      <td>618.500000</td>\n",
       "      <td>119.576861</td>\n",
       "      <td>279.338512</td>\n",
       "      <td>0.254854</td>\n",
       "      <td>27.255267</td>\n",
       "      <td>64.047776</td>\n",
       "      <td>128.625833</td>\n",
       "      <td>0.394780</td>\n",
       "    </tr>\n",
       "    <tr>\n",
       "      <th>std</th>\n",
       "      <td>356.946775</td>\n",
       "      <td>18.236452</td>\n",
       "      <td>16.027693</td>\n",
       "      <td>0.435956</td>\n",
       "      <td>5.781405</td>\n",
       "      <td>2.533409</td>\n",
       "      <td>20.971862</td>\n",
       "      <td>0.489003</td>\n",
       "    </tr>\n",
       "    <tr>\n",
       "      <th>min</th>\n",
       "      <td>1.000000</td>\n",
       "      <td>55.000000</td>\n",
       "      <td>148.000000</td>\n",
       "      <td>0.000000</td>\n",
       "      <td>15.000000</td>\n",
       "      <td>53.000000</td>\n",
       "      <td>87.000000</td>\n",
       "      <td>0.000000</td>\n",
       "    </tr>\n",
       "    <tr>\n",
       "      <th>25%</th>\n",
       "      <td>309.750000</td>\n",
       "      <td>108.750000</td>\n",
       "      <td>272.000000</td>\n",
       "      <td>0.000000</td>\n",
       "      <td>23.000000</td>\n",
       "      <td>62.000000</td>\n",
       "      <td>114.750000</td>\n",
       "      <td>0.000000</td>\n",
       "    </tr>\n",
       "    <tr>\n",
       "      <th>50%</th>\n",
       "      <td>618.500000</td>\n",
       "      <td>120.000000</td>\n",
       "      <td>280.000000</td>\n",
       "      <td>0.000000</td>\n",
       "      <td>26.000000</td>\n",
       "      <td>64.000000</td>\n",
       "      <td>125.000000</td>\n",
       "      <td>0.000000</td>\n",
       "    </tr>\n",
       "    <tr>\n",
       "      <th>75%</th>\n",
       "      <td>927.250000</td>\n",
       "      <td>131.000000</td>\n",
       "      <td>288.000000</td>\n",
       "      <td>1.000000</td>\n",
       "      <td>31.000000</td>\n",
       "      <td>66.000000</td>\n",
       "      <td>139.000000</td>\n",
       "      <td>1.000000</td>\n",
       "    </tr>\n",
       "    <tr>\n",
       "      <th>max</th>\n",
       "      <td>1236.000000</td>\n",
       "      <td>176.000000</td>\n",
       "      <td>353.000000</td>\n",
       "      <td>1.000000</td>\n",
       "      <td>45.000000</td>\n",
       "      <td>72.000000</td>\n",
       "      <td>250.000000</td>\n",
       "      <td>1.000000</td>\n",
       "    </tr>\n",
       "  </tbody>\n",
       "</table>\n",
       "</div>"
      ],
      "text/plain": [
       "              case          bwt    gestation       parity          age  \\\n",
       "count  1236.000000  1236.000000  1223.000000  1236.000000  1234.000000   \n",
       "mean    618.500000   119.576861   279.338512     0.254854    27.255267   \n",
       "std     356.946775    18.236452    16.027693     0.435956     5.781405   \n",
       "min       1.000000    55.000000   148.000000     0.000000    15.000000   \n",
       "25%     309.750000   108.750000   272.000000     0.000000    23.000000   \n",
       "50%     618.500000   120.000000   280.000000     0.000000    26.000000   \n",
       "75%     927.250000   131.000000   288.000000     1.000000    31.000000   \n",
       "max    1236.000000   176.000000   353.000000     1.000000    45.000000   \n",
       "\n",
       "            height       weight        smoke  \n",
       "count  1214.000000  1200.000000  1226.000000  \n",
       "mean     64.047776   128.625833     0.394780  \n",
       "std       2.533409    20.971862     0.489003  \n",
       "min      53.000000    87.000000     0.000000  \n",
       "25%      62.000000   114.750000     0.000000  \n",
       "50%      64.000000   125.000000     0.000000  \n",
       "75%      66.000000   139.000000     1.000000  \n",
       "max      72.000000   250.000000     1.000000  "
      ]
     },
     "execution_count": 355,
     "metadata": {},
     "output_type": "execute_result"
    }
   ],
   "source": [
    "df.describe()"
   ]
  },
  {
   "cell_type": "code",
   "execution_count": 356,
   "id": "c8c3e859-f4c1-4a8e-98c2-87666b059117",
   "metadata": {},
   "outputs": [
    {
     "data": {
      "text/plain": [
       "case          0\n",
       "bwt           0\n",
       "gestation    13\n",
       "parity        0\n",
       "age           2\n",
       "height       22\n",
       "weight       36\n",
       "smoke        10\n",
       "dtype: int64"
      ]
     },
     "execution_count": 356,
     "metadata": {},
     "output_type": "execute_result"
    }
   ],
   "source": [
    "df.isnull().sum()"
   ]
  },
  {
   "cell_type": "code",
   "execution_count": 357,
   "id": "5efb9ba8-fd18-493d-a0d6-9612f8668cd9",
   "metadata": {},
   "outputs": [
    {
     "name": "stdout",
     "output_type": "stream",
     "text": [
      "<class 'pandas.core.frame.DataFrame'>\n",
      "RangeIndex: 1236 entries, 0 to 1235\n",
      "Data columns (total 8 columns):\n",
      " #   Column     Non-Null Count  Dtype  \n",
      "---  ------     --------------  -----  \n",
      " 0   case       1236 non-null   int64  \n",
      " 1   bwt        1236 non-null   int64  \n",
      " 2   gestation  1223 non-null   float64\n",
      " 3   parity     1236 non-null   int64  \n",
      " 4   age        1234 non-null   float64\n",
      " 5   height     1214 non-null   float64\n",
      " 6   weight     1200 non-null   float64\n",
      " 7   smoke      1226 non-null   float64\n",
      "dtypes: float64(5), int64(3)\n",
      "memory usage: 77.4 KB\n"
     ]
    }
   ],
   "source": [
    "df.info()"
   ]
  },
  {
   "cell_type": "markdown",
   "id": "ec6ce626-018f-47cb-a07b-bb2aeff0f1e4",
   "metadata": {},
   "source": [
    "#### Here data type of variable smoke is float and we have to convert it into int and also there are null values in dataset. To convert smoke data type to int first fill the variable using mean and mode"
   ]
  },
  {
   "cell_type": "code",
   "execution_count": 358,
   "id": "af53b402-3026-45ac-b147-079faf92a683",
   "metadata": {},
   "outputs": [],
   "source": [
    "df = df.dropna(subset=['smoke'])"
   ]
  },
  {
   "cell_type": "code",
   "execution_count": 360,
   "id": "386c2bbe-291b-4617-8047-ba3515851bd3",
   "metadata": {},
   "outputs": [],
   "source": [
    "df.gestation = df.gestation.fillna(df.gestation.mean())\n",
    "df.iloc[:,4:7] = df.iloc[:,4:7].fillna(df.iloc[:,4:7].mean())\n",
    "#df['smoke'].fillna(df['smoke'].median())"
   ]
  },
  {
   "cell_type": "code",
   "execution_count": 361,
   "id": "085755f0-b5e3-4ef9-8727-7cef2b8841fb",
   "metadata": {},
   "outputs": [
    {
     "data": {
      "text/plain": [
       "case         0\n",
       "bwt          0\n",
       "gestation    0\n",
       "parity       0\n",
       "age          0\n",
       "height       0\n",
       "weight       0\n",
       "smoke        0\n",
       "dtype: int64"
      ]
     },
     "execution_count": 361,
     "metadata": {},
     "output_type": "execute_result"
    }
   ],
   "source": [
    "df.isnull().sum()"
   ]
  },
  {
   "cell_type": "code",
   "execution_count": 362,
   "id": "81ba76f8-0101-4699-a014-1f5515f46960",
   "metadata": {},
   "outputs": [],
   "source": [
    "df['smoke'] = df['smoke'].astype(int)"
   ]
  },
  {
   "cell_type": "code",
   "execution_count": 363,
   "id": "2f3312d7-a3be-4e29-9249-5eef41cc1c05",
   "metadata": {},
   "outputs": [
    {
     "name": "stdout",
     "output_type": "stream",
     "text": [
      "<class 'pandas.core.frame.DataFrame'>\n",
      "Index: 1226 entries, 0 to 1235\n",
      "Data columns (total 8 columns):\n",
      " #   Column     Non-Null Count  Dtype  \n",
      "---  ------     --------------  -----  \n",
      " 0   case       1226 non-null   int64  \n",
      " 1   bwt        1226 non-null   int64  \n",
      " 2   gestation  1226 non-null   float64\n",
      " 3   parity     1226 non-null   int64  \n",
      " 4   age        1226 non-null   float64\n",
      " 5   height     1226 non-null   float64\n",
      " 6   weight     1226 non-null   float64\n",
      " 7   smoke      1226 non-null   int32  \n",
      "dtypes: float64(4), int32(1), int64(3)\n",
      "memory usage: 81.4 KB\n"
     ]
    }
   ],
   "source": [
    "df.info()"
   ]
  },
  {
   "cell_type": "code",
   "execution_count": 364,
   "id": "a5c1bf2c-3da1-4f20-8882-42bd22bd0abd",
   "metadata": {},
   "outputs": [
    {
     "data": {
      "text/html": [
       "<div>\n",
       "<style scoped>\n",
       "    .dataframe tbody tr th:only-of-type {\n",
       "        vertical-align: middle;\n",
       "    }\n",
       "\n",
       "    .dataframe tbody tr th {\n",
       "        vertical-align: top;\n",
       "    }\n",
       "\n",
       "    .dataframe thead th {\n",
       "        text-align: right;\n",
       "    }\n",
       "</style>\n",
       "<table border=\"1\" class=\"dataframe\">\n",
       "  <thead>\n",
       "    <tr style=\"text-align: right;\">\n",
       "      <th></th>\n",
       "      <th>case</th>\n",
       "      <th>bwt</th>\n",
       "      <th>gestation</th>\n",
       "      <th>parity</th>\n",
       "      <th>age</th>\n",
       "      <th>height</th>\n",
       "      <th>weight</th>\n",
       "      <th>smoke</th>\n",
       "    </tr>\n",
       "  </thead>\n",
       "  <tbody>\n",
       "    <tr>\n",
       "      <th>case</th>\n",
       "      <td>1.000000</td>\n",
       "      <td>-0.059471</td>\n",
       "      <td>0.011925</td>\n",
       "      <td>0.200148</td>\n",
       "      <td>0.008010</td>\n",
       "      <td>-0.039767</td>\n",
       "      <td>-0.054978</td>\n",
       "      <td>-0.002348</td>\n",
       "    </tr>\n",
       "    <tr>\n",
       "      <th>bwt</th>\n",
       "      <td>-0.059471</td>\n",
       "      <td>1.000000</td>\n",
       "      <td>0.403187</td>\n",
       "      <td>-0.044566</td>\n",
       "      <td>0.029631</td>\n",
       "      <td>0.199866</td>\n",
       "      <td>0.153112</td>\n",
       "      <td>-0.240093</td>\n",
       "    </tr>\n",
       "    <tr>\n",
       "      <th>gestation</th>\n",
       "      <td>0.011925</td>\n",
       "      <td>0.403187</td>\n",
       "      <td>1.000000</td>\n",
       "      <td>0.071303</td>\n",
       "      <td>-0.058370</td>\n",
       "      <td>0.064344</td>\n",
       "      <td>0.022986</td>\n",
       "      <td>-0.066917</td>\n",
       "    </tr>\n",
       "    <tr>\n",
       "      <th>parity</th>\n",
       "      <td>0.200148</td>\n",
       "      <td>-0.044566</td>\n",
       "      <td>0.071303</td>\n",
       "      <td>1.000000</td>\n",
       "      <td>-0.344427</td>\n",
       "      <td>0.035523</td>\n",
       "      <td>-0.087192</td>\n",
       "      <td>-0.012815</td>\n",
       "    </tr>\n",
       "    <tr>\n",
       "      <th>age</th>\n",
       "      <td>0.008010</td>\n",
       "      <td>0.029631</td>\n",
       "      <td>-0.058370</td>\n",
       "      <td>-0.344427</td>\n",
       "      <td>1.000000</td>\n",
       "      <td>0.001774</td>\n",
       "      <td>0.156803</td>\n",
       "      <td>-0.070147</td>\n",
       "    </tr>\n",
       "    <tr>\n",
       "      <th>height</th>\n",
       "      <td>-0.039767</td>\n",
       "      <td>0.199866</td>\n",
       "      <td>0.064344</td>\n",
       "      <td>0.035523</td>\n",
       "      <td>0.001774</td>\n",
       "      <td>1.000000</td>\n",
       "      <td>0.430770</td>\n",
       "      <td>0.014288</td>\n",
       "    </tr>\n",
       "    <tr>\n",
       "      <th>weight</th>\n",
       "      <td>-0.054978</td>\n",
       "      <td>0.153112</td>\n",
       "      <td>0.022986</td>\n",
       "      <td>-0.087192</td>\n",
       "      <td>0.156803</td>\n",
       "      <td>0.430770</td>\n",
       "      <td>1.000000</td>\n",
       "      <td>-0.064548</td>\n",
       "    </tr>\n",
       "    <tr>\n",
       "      <th>smoke</th>\n",
       "      <td>-0.002348</td>\n",
       "      <td>-0.240093</td>\n",
       "      <td>-0.066917</td>\n",
       "      <td>-0.012815</td>\n",
       "      <td>-0.070147</td>\n",
       "      <td>0.014288</td>\n",
       "      <td>-0.064548</td>\n",
       "      <td>1.000000</td>\n",
       "    </tr>\n",
       "  </tbody>\n",
       "</table>\n",
       "</div>"
      ],
      "text/plain": [
       "               case       bwt  gestation    parity       age    height  \\\n",
       "case       1.000000 -0.059471   0.011925  0.200148  0.008010 -0.039767   \n",
       "bwt       -0.059471  1.000000   0.403187 -0.044566  0.029631  0.199866   \n",
       "gestation  0.011925  0.403187   1.000000  0.071303 -0.058370  0.064344   \n",
       "parity     0.200148 -0.044566   0.071303  1.000000 -0.344427  0.035523   \n",
       "age        0.008010  0.029631  -0.058370 -0.344427  1.000000  0.001774   \n",
       "height    -0.039767  0.199866   0.064344  0.035523  0.001774  1.000000   \n",
       "weight    -0.054978  0.153112   0.022986 -0.087192  0.156803  0.430770   \n",
       "smoke     -0.002348 -0.240093  -0.066917 -0.012815 -0.070147  0.014288   \n",
       "\n",
       "             weight     smoke  \n",
       "case      -0.054978 -0.002348  \n",
       "bwt        0.153112 -0.240093  \n",
       "gestation  0.022986 -0.066917  \n",
       "parity    -0.087192 -0.012815  \n",
       "age        0.156803 -0.070147  \n",
       "height     0.430770  0.014288  \n",
       "weight     1.000000 -0.064548  \n",
       "smoke     -0.064548  1.000000  "
      ]
     },
     "execution_count": 364,
     "metadata": {},
     "output_type": "execute_result"
    }
   ],
   "source": [
    "df.corr()"
   ]
  },
  {
   "cell_type": "markdown",
   "id": "ea293cae-7f95-45fb-a7c8-70fd552f650a",
   "metadata": {},
   "source": [
    "### Correlation Heatmap"
   ]
  },
  {
   "cell_type": "markdown",
   "id": "cbfeb34d-a89d-4310-9a68-9f38e747c806",
   "metadata": {},
   "source": [
    "#### From the correlation map it is showing there is correlation between birth weight of the child and gestation, height and weight of the mother "
   ]
  },
  {
   "cell_type": "code",
   "execution_count": 365,
   "id": "3ec8e6ae-f1a8-4eaa-85f8-5de4d48faf2e",
   "metadata": {},
   "outputs": [
    {
     "data": {
      "image/png": "[encoded data removed]",
      "text/plain": [
       "<Figure size 720x576 with 2 Axes>"
      ]
     },
     "metadata": {},
     "output_type": "display_data"
    }
   ],
   "source": [
    "plt.figure(figsize = (10,8))\n",
    "sns.heatmap(df.iloc[:,1:].corr(), annot = True, cmap = 'crest', fmt ='.2f')\n",
    "plt.show()"
   ]
  },
  {
   "cell_type": "markdown",
   "id": "3ac9d542-f5b0-4497-9518-aa9e66458146",
   "metadata": {},
   "source": [
    "#### Count of smokers vs "
   ]
  },
  {
   "cell_type": "code",
   "execution_count": 366,
   "id": "638bce0b-3597-46af-86db-c080dd7b721d",
   "metadata": {},
   "outputs": [
    {
     "data": {
      "image/png": "[encoded data removed]",
      "text/plain": [
       "<Figure size 576x576 with 1 Axes>"
      ]
     },
     "metadata": {},
     "output_type": "display_data"
    }
   ],
   "source": [
    "# Create figure FIRST\n",
    "plt.figure(figsize=(8, 8))\n",
    "\n",
    "# Plot the bar chart\n",
    "total_smoke = df['smoke'].value_counts()\n",
    "total_smoke.plot(kind='bar', color=['forestgreen', 'maroon'])\n",
    "\n",
    "# Add data labels\n",
    "for i, x in enumerate(total_smoke):\n",
    "    plt.text(i, x / 2, str(x), ha='center', va='center', color='white', fontweight='bold')\n",
    "\n",
    "# Set axis limits\n",
    "plt.ylim(0, max(total_smoke) + 10)\n",
    "\n",
    "# Add labels and title\n",
    "plt.xticks(rotation=0)\n",
    "plt.xlabel('Smoker')\n",
    "plt.ylabel('Count')\n",
    "plt.title('Smoker vs Non Smoker')\n",
    "\n",
    "# Show plot\n",
    "plt.show()"
   ]
  },
  {
   "cell_type": "markdown",
   "id": "272cd4ea-4d7a-4eac-b840-c16586c9cb92",
   "metadata": {},
   "source": [
    "#### count if mothers first pregnancy or not"
   ]
  },
  {
   "cell_type": "code",
   "execution_count": 367,
   "id": "89adf618-c01a-4074-9ad5-6640fdf54cf3",
   "metadata": {},
   "outputs": [
    {
     "data": {
      "image/png": "[encoded data removed]",
      "text/plain": [
       "<Figure size 576x576 with 1 Axes>"
      ]
     },
     "metadata": {},
     "output_type": "display_data"
    }
   ],
   "source": [
    "# Create figure FIRST\n",
    "plt.figure(figsize=(8, 8))\n",
    "\n",
    "# Plot the bar chart\n",
    "total_parity = df['parity'].value_counts()\n",
    "total_parity.plot(kind='bar', color=['slategray', 'midnightblue'])\n",
    "\n",
    "# Add data labels\n",
    "for i, x in enumerate(total_smoke):\n",
    "    plt.text(i, x / 2, str(x), ha='center', va='center', color='white', fontweight='bold')\n",
    "\n",
    "# Set axis limits\n",
    "plt.ylim(0, max(total_smoke) + 10)\n",
    "\n",
    "# Add labels and title\n",
    "plt.xticks(rotation=0)\n",
    "plt.xlabel('Smoker')\n",
    "plt.ylabel('Count')\n",
    "plt.title('Smoker vs Non Smoker')\n",
    "\n",
    "# Show plot\n",
    "plt.show()"
   ]
  },
  {
   "cell_type": "markdown",
   "id": "b8081dd5-6629-4c9e-806d-5170f61a3f96",
   "metadata": {},
   "source": [
    "#### Histograms / KDE plots"
   ]
  },
  {
   "cell_type": "code",
   "execution_count": 368,
   "id": "f1ab599f-0f2f-4de5-a777-40d7f417324f",
   "metadata": {},
   "outputs": [
    {
     "data": {
      "text/plain": [
       "<Axes: xlabel='bwt', ylabel='Count'>"
      ]
     },
     "execution_count": 368,
     "metadata": {},
     "output_type": "execute_result"
    },
    {
     "data": {
      "image/png": "[encoded data removed]",
      "text/plain": [
       "<Figure size 432x288 with 1 Axes>"
      ]
     },
     "metadata": {},
     "output_type": "display_data"
    }
   ],
   "source": [
    "sns.histplot(df['bwt'], kde=True)"
   ]
  },
  {
   "cell_type": "markdown",
   "id": "f8c6277b-4475-4c8f-b36c-eeb0091537c8",
   "metadata": {},
   "source": [
    "#### FacetGrid for small multiples"
   ]
  },
  {
   "cell_type": "code",
   "execution_count": 369,
   "id": "6e2d330a-539b-4212-96d8-74db40e0c4de",
   "metadata": {},
   "outputs": [
    {
     "data": {
      "text/plain": [
       "<seaborn.axisgrid.FacetGrid at 0x15cc0bde730>"
      ]
     },
     "execution_count": 369,
     "metadata": {},
     "output_type": "execute_result"
    },
    {
     "data": {
      "image/png": "[encoded data removed]",
      "text/plain": [
       "<Figure size 432x216 with 2 Axes>"
      ]
     },
     "metadata": {},
     "output_type": "display_data"
    }
   ],
   "source": [
    "g = sns.FacetGrid(df, col=\"smoke\")\n",
    "g.map(sns.histplot, \"bwt\", kde=True)"
   ]
  },
  {
   "cell_type": "markdown",
   "id": "b54d7a15-3045-4ded-89c0-0351dafc1830",
   "metadata": {},
   "source": [
    "#### Bar plot of smoke vs bwt"
   ]
  },
  {
   "cell_type": "code",
   "execution_count": 370,
   "id": "ba3b9eee-f9d8-472e-b2f2-e354d734d38a",
   "metadata": {},
   "outputs": [
    {
     "name": "stderr",
     "output_type": "stream",
     "text": [
      "C:\\Users\\ASUS\\AppData\\Local\\Temp\\ipykernel_1716\\1093510675.py:2: FutureWarning: \n",
      "\n",
      "Passing `palette` without assigning `hue` is deprecated and will be removed in v0.14.0. Assign the `x` variable to `hue` and set `legend=False` for the same effect.\n",
      "\n",
      "  sns.barplot(x='smoke', y='bwt', data=df, palette =['darkorange', 'burlywood'])\n"
     ]
    },
    {
     "data": {
      "text/plain": [
       "([<matplotlib.axis.XTick at 0x15cc0c696a0>,\n",
       "  <matplotlib.axis.XTick at 0x15cc0c69670>],\n",
       " [Text(0, 0, 'Non-Smoker'), Text(1, 0, 'Smoker')])"
      ]
     },
     "execution_count": 370,
     "metadata": {},
     "output_type": "execute_result"
    },
    {
     "data": {
      "image/png": "[encoded data removed]",
      "text/plain": [
       "<Figure size 576x432 with 1 Axes>"
      ]
     },
     "metadata": {},
     "output_type": "display_data"
    }
   ],
   "source": [
    "plt.figure(figsize=(8,6))\n",
    "sns.barplot(x='smoke', y='bwt', data=df, palette =['darkorange', 'burlywood'])\n",
    "plt.xticks([0, 1], ['Non-Smoker', 'Smoker'])"
   ]
  },
  {
   "cell_type": "markdown",
   "id": "d0ad6b23-d3ba-4ddb-8fb5-d40929d28d1e",
   "metadata": {},
   "source": [
    "#### Mothers who smoke vs parity"
   ]
  },
  {
   "cell_type": "code",
   "execution_count": 371,
   "id": "07b50fab-a5a2-4d13-b43e-d3e26ff84219",
   "metadata": {},
   "outputs": [
    {
     "data": {
      "image/png": "[encoded data removed]",
      "text/plain": [
       "<Figure size 576x432 with 1 Axes>"
      ]
     },
     "metadata": {},
     "output_type": "display_data"
    }
   ],
   "source": [
    "# Set style\n",
    "sns.set(style='whitegrid')\n",
    "\n",
    "# Create a crosstab of smoke and parity\n",
    "cross_tab = pd.crosstab(df['parity'], df['smoke'])\n",
    "\n",
    "# Rename columns for readability (optional)\n",
    "cross_tab.columns = ['Non-Smoker', 'Smoker']\n",
    "cross_tab.index = ['Not First Pregnancy', 'First Pregnancy']\n",
    "\n",
    "# Plot the grouped bar chart\n",
    "cross_tab.plot(kind='bar', color=['forestgreen', 'darkred'], figsize=(8,6))\n",
    "\n",
    "# Add labels and title\n",
    "plt.title('Parity vs Smoking Status')\n",
    "plt.xlabel('Parity (Pregnancy Status)')\n",
    "plt.ylabel('Count')\n",
    "plt.xticks(rotation=0)\n",
    "plt.legend(title='Smoking')\n",
    "plt.tight_layout()\n",
    "plt.show()"
   ]
  },
  {
   "cell_type": "markdown",
   "id": "96d50676-8095-4f69-b376-669ac517bc13",
   "metadata": {},
   "source": [
    "#### Scatter plot of gestation vs bwt"
   ]
  },
  {
   "cell_type": "code",
   "execution_count": 372,
   "id": "c4bc9d5f-9dc5-47cc-9be2-f6ef58db72b7",
   "metadata": {},
   "outputs": [
    {
     "data": {
      "text/plain": [
       "<Axes: xlabel='gestation', ylabel='bwt'>"
      ]
     },
     "execution_count": 372,
     "metadata": {},
     "output_type": "execute_result"
    },
    {
     "data": {
      "image/png": "[encoded data removed]",
      "text/plain": [
       "<Figure size 432x288 with 1 Axes>"
      ]
     },
     "metadata": {},
     "output_type": "display_data"
    }
   ],
   "source": [
    "sns.scatterplot(x='gestation', y='bwt', data=df)"
   ]
  },
  {
   "cell_type": "markdown",
   "id": "87b31393-08fc-42e0-9158-b23340f0ce5b",
   "metadata": {},
   "source": [
    "### Feature Engineering"
   ]
  },
  {
   "cell_type": "markdown",
   "id": "c6c83b29-7623-40e2-bc1c-3bfc596cf12c",
   "metadata": {},
   "source": [
    "Older, heavier mothers may carry different risk than younger, lighter ones.\n",
    "\n",
    "Comparing first-time smokers vs experienced moms who smoke"
   ]
  },
  {
   "cell_type": "code",
   "execution_count": 373,
   "id": "08e36ef0-f325-4834-8036-b0a27de532f4",
   "metadata": {},
   "outputs": [],
   "source": [
    "df['age_weight'] = df['weight'] * df['age']\n",
    "df['smoke_parity'] = df['smoke'] * df['parity']"
   ]
  },
  {
   "cell_type": "code",
   "execution_count": 374,
   "id": "ab3d8bcf-5585-4c70-97ce-cc99a99fa16c",
   "metadata": {},
   "outputs": [
    {
     "name": "stdout",
     "output_type": "stream",
     "text": [
      "<class 'pandas.core.frame.DataFrame'>\n",
      "Index: 1226 entries, 0 to 1235\n",
      "Data columns (total 10 columns):\n",
      " #   Column        Non-Null Count  Dtype  \n",
      "---  ------        --------------  -----  \n",
      " 0   case          1226 non-null   int64  \n",
      " 1   bwt           1226 non-null   int64  \n",
      " 2   gestation     1226 non-null   float64\n",
      " 3   parity        1226 non-null   int64  \n",
      " 4   age           1226 non-null   float64\n",
      " 5   height        1226 non-null   float64\n",
      " 6   weight        1226 non-null   float64\n",
      " 7   smoke         1226 non-null   int32  \n",
      " 8   age_weight    1226 non-null   float64\n",
      " 9   smoke_parity  1226 non-null   int64  \n",
      "dtypes: float64(5), int32(1), int64(4)\n",
      "memory usage: 100.6 KB\n"
     ]
    }
   ],
   "source": [
    "df.info()"
   ]
  },
  {
   "cell_type": "markdown",
   "id": "d8f78d9a-2efc-47c1-ab1e-fe9caf148b96",
   "metadata": {},
   "source": [
    "### Define feature"
   ]
  },
  {
   "cell_type": "code",
   "execution_count": 375,
   "id": "ab17240a-6aa1-496c-a747-1423e844af18",
   "metadata": {},
   "outputs": [],
   "source": [
    "x = df.iloc[:,2:8]\n",
    "y = df.iloc[:,1]"
   ]
  },
  {
   "cell_type": "markdown",
   "id": "0a507587-1cc1-4b78-b29d-e49c6a624517",
   "metadata": {},
   "source": [
    "### Train Test Split"
   ]
  },
  {
   "cell_type": "code",
   "execution_count": 376,
   "id": "7a01606b-ad32-46b9-8117-579c94afc364",
   "metadata": {},
   "outputs": [],
   "source": [
    "from sklearn.model_selection import train_test_split\n",
    "trainx,testx,trainy,testy = train_test_split(x,y, test_size = 0.2, random_state = 1)"
   ]
  },
  {
   "cell_type": "code",
   "execution_count": 377,
   "id": "a486889b-7410-464b-a09f-1cc4b66602ed",
   "metadata": {},
   "outputs": [
    {
     "data": {
      "text/html": [
       "<div>\n",
       "<style scoped>\n",
       "    .dataframe tbody tr th:only-of-type {\n",
       "        vertical-align: middle;\n",
       "    }\n",
       "\n",
       "    .dataframe tbody tr th {\n",
       "        vertical-align: top;\n",
       "    }\n",
       "\n",
       "    .dataframe thead th {\n",
       "        text-align: right;\n",
       "    }\n",
       "</style>\n",
       "<table border=\"1\" class=\"dataframe\">\n",
       "  <thead>\n",
       "    <tr style=\"text-align: right;\">\n",
       "      <th></th>\n",
       "      <th>gestation</th>\n",
       "      <th>parity</th>\n",
       "      <th>age</th>\n",
       "      <th>height</th>\n",
       "      <th>weight</th>\n",
       "      <th>smoke</th>\n",
       "    </tr>\n",
       "  </thead>\n",
       "  <tbody>\n",
       "    <tr>\n",
       "      <th>718</th>\n",
       "      <td>299.0</td>\n",
       "      <td>0</td>\n",
       "      <td>24.0</td>\n",
       "      <td>62.0</td>\n",
       "      <td>115.0</td>\n",
       "      <td>0</td>\n",
       "    </tr>\n",
       "    <tr>\n",
       "      <th>900</th>\n",
       "      <td>281.0</td>\n",
       "      <td>1</td>\n",
       "      <td>27.0</td>\n",
       "      <td>64.0</td>\n",
       "      <td>112.0</td>\n",
       "      <td>0</td>\n",
       "    </tr>\n",
       "    <tr>\n",
       "      <th>599</th>\n",
       "      <td>263.0</td>\n",
       "      <td>1</td>\n",
       "      <td>25.0</td>\n",
       "      <td>63.0</td>\n",
       "      <td>107.0</td>\n",
       "      <td>0</td>\n",
       "    </tr>\n",
       "    <tr>\n",
       "      <th>99</th>\n",
       "      <td>254.0</td>\n",
       "      <td>0</td>\n",
       "      <td>29.0</td>\n",
       "      <td>64.0</td>\n",
       "      <td>137.0</td>\n",
       "      <td>0</td>\n",
       "    </tr>\n",
       "    <tr>\n",
       "      <th>1018</th>\n",
       "      <td>250.0</td>\n",
       "      <td>0</td>\n",
       "      <td>40.0</td>\n",
       "      <td>59.0</td>\n",
       "      <td>140.0</td>\n",
       "      <td>0</td>\n",
       "    </tr>\n",
       "    <tr>\n",
       "      <th>...</th>\n",
       "      <td>...</td>\n",
       "      <td>...</td>\n",
       "      <td>...</td>\n",
       "      <td>...</td>\n",
       "      <td>...</td>\n",
       "      <td>...</td>\n",
       "    </tr>\n",
       "    <tr>\n",
       "      <th>724</th>\n",
       "      <td>275.0</td>\n",
       "      <td>0</td>\n",
       "      <td>33.0</td>\n",
       "      <td>62.0</td>\n",
       "      <td>118.0</td>\n",
       "      <td>0</td>\n",
       "    </tr>\n",
       "    <tr>\n",
       "      <th>914</th>\n",
       "      <td>277.0</td>\n",
       "      <td>1</td>\n",
       "      <td>19.0</td>\n",
       "      <td>62.0</td>\n",
       "      <td>160.0</td>\n",
       "      <td>0</td>\n",
       "    </tr>\n",
       "    <tr>\n",
       "      <th>1106</th>\n",
       "      <td>285.0</td>\n",
       "      <td>0</td>\n",
       "      <td>37.0</td>\n",
       "      <td>66.0</td>\n",
       "      <td>135.0</td>\n",
       "      <td>1</td>\n",
       "    </tr>\n",
       "    <tr>\n",
       "      <th>237</th>\n",
       "      <td>276.0</td>\n",
       "      <td>0</td>\n",
       "      <td>23.0</td>\n",
       "      <td>63.0</td>\n",
       "      <td>120.0</td>\n",
       "      <td>0</td>\n",
       "    </tr>\n",
       "    <tr>\n",
       "      <th>1071</th>\n",
       "      <td>268.0</td>\n",
       "      <td>0</td>\n",
       "      <td>32.0</td>\n",
       "      <td>62.0</td>\n",
       "      <td>97.0</td>\n",
       "      <td>1</td>\n",
       "    </tr>\n",
       "  </tbody>\n",
       "</table>\n",
       "<p>980 rows × 6 columns</p>\n",
       "</div>"
      ],
      "text/plain": [
       "      gestation  parity   age  height  weight  smoke\n",
       "718       299.0       0  24.0    62.0   115.0      0\n",
       "900       281.0       1  27.0    64.0   112.0      0\n",
       "599       263.0       1  25.0    63.0   107.0      0\n",
       "99        254.0       0  29.0    64.0   137.0      0\n",
       "1018      250.0       0  40.0    59.0   140.0      0\n",
       "...         ...     ...   ...     ...     ...    ...\n",
       "724       275.0       0  33.0    62.0   118.0      0\n",
       "914       277.0       1  19.0    62.0   160.0      0\n",
       "1106      285.0       0  37.0    66.0   135.0      1\n",
       "237       276.0       0  23.0    63.0   120.0      0\n",
       "1071      268.0       0  32.0    62.0    97.0      1\n",
       "\n",
       "[980 rows x 6 columns]"
      ]
     },
     "execution_count": 377,
     "metadata": {},
     "output_type": "execute_result"
    }
   ],
   "source": [
    "trainx"
   ]
  },
  {
   "cell_type": "code",
   "execution_count": 378,
   "id": "321ff3a3-3c8d-42d6-b891-fdc6b86b1daa",
   "metadata": {},
   "outputs": [
    {
     "data": {
      "text/plain": [
       "718     137\n",
       "900     111\n",
       "599      97\n",
       "99      105\n",
       "1018    103\n",
       "       ... \n",
       "724     139\n",
       "914     110\n",
       "1106     96\n",
       "237     126\n",
       "1071    103\n",
       "Name: bwt, Length: 980, dtype: int64"
      ]
     },
     "execution_count": 378,
     "metadata": {},
     "output_type": "execute_result"
    }
   ],
   "source": [
    "trainy"
   ]
  },
  {
   "cell_type": "markdown",
   "id": "d89bdace-cd37-4983-be77-42b6ae07ab42",
   "metadata": {},
   "source": [
    "### Machine Learning \n",
    "#### Linear Regression"
   ]
  },
  {
   "cell_type": "code",
   "execution_count": 379,
   "id": "00a5bbe9-0b07-4e27-842b-9fe3d27382b6",
   "metadata": {},
   "outputs": [
    {
     "name": "stdout",
     "output_type": "stream",
     "text": [
      "Mean Squared Error: 227.01\n",
      "R-squared: 0.27\n"
     ]
    }
   ],
   "source": [
    "from sklearn.linear_model import LinearRegression as LR\n",
    "from sklearn.metrics import mean_squared_error, r2_score\n",
    "\n",
    "lin = LR()\n",
    "lin.fit(trainx, trainy)\n",
    "lin_predictions = lin.predict(testx) \n",
    "lin_mse = mean_squared_error(testy, lin_predictions)\n",
    "lin_r2 = r2_score(testy, lin_predictions)\n",
    "print(f\"Mean Squared Error: {lin_mse:.2f}\")\n",
    "print(f\"R-squared: {lin_r2:.2f}\")"
   ]
  },
  {
   "cell_type": "markdown",
   "id": "1693d4d9-a407-46b0-a283-04a0ecc76b53",
   "metadata": {},
   "source": [
    "#### Feature Importance Description\n",
    "The table below shows the coefficients of each feature from a linear regression model. These coefficients indicate the expected change in the target variable (e.g., birth weight) for a one-unit increase in the respective feature, assuming all other features are held constant.\n",
    "\n",
    "\n",
    "Feature\tCoefficient\tInterpretation\n",
    "Height\t+1.23\tA one-unit increase in maternal height is associated with an increase of 1.23 units in the predicted target value.\n",
    "Gestation\t+0.42\tLonger gestation periods slightly increase the predicted value by 0.42 units per additional unit.\n",
    "Weight\t+0.06\tMaternal weight has a small positive impact, increasing the target by 0.06 units per unit of weight.\n",
    "Age\t+0.02\tMaternal age shows a minor positive relationship with the target variable.\n",
    "Parity\t-3.07\tHaving more previous pregnancies (higher parity) is associated with a decrease of about 3.07 units in the predicted value.\n",
    "Smoke\t-7.57\tSmoking during pregnancy has the strongest negative effect, decreasing the predicted value by 7.57 units.\n",
    "Summary\n",
    "Height and gestation are the most positively influential features.\n",
    "\n",
    "Smoking and parity show negative impacts, with smoking having the largest negative coefficient, suggesting it's the most harmful factor in this model."
   ]
  },
  {
   "cell_type": "code",
   "execution_count": 380,
   "id": "6e9c01b4-f3eb-4157-a482-7d090eaf811d",
   "metadata": {},
   "outputs": [
    {
     "name": "stdout",
     "output_type": "stream",
     "text": [
      "     Feature  Coefficient\n",
      "3     height     1.225212\n",
      "0  gestation     0.419133\n",
      "4     weight     0.063134\n",
      "2        age     0.022312\n",
      "1     parity    -3.065564\n",
      "5      smoke    -7.572218\n"
     ]
    }
   ],
   "source": [
    "coef_df = pd.DataFrame({\n",
    "    'Feature': X.columns,\n",
    "    'Coefficient': lin.coef_\n",
    "})\n",
    "\n",
    "print(coef_df.sort_values(by='Coefficient', ascending=False))"
   ]
  },
  {
   "cell_type": "code",
   "execution_count": 381,
   "id": "80de0c2b-5bcf-4441-9e54-cfb7ea864c76",
   "metadata": {},
   "outputs": [
    {
     "name": "stdout",
     "output_type": "stream",
     "text": [
      "Actual: 112.00   | Predicted: 122.4\n",
      "Actual: 129.00   | Predicted: 133.2\n",
      "Actual: 131.00   | Predicted: 125.3\n",
      "Actual: 128.00   | Predicted: 115.9\n",
      "Actual: 110.00   | Predicted: 122.7\n",
      "Actual: 126.00   | Predicted: 123.0\n",
      "Actual: 104.00   | Predicted: 117.6\n",
      "Actual: 152.00   | Predicted: 128.6\n",
      "Actual: 123.00   | Predicted: 133.9\n",
      "Actual: 148.00   | Predicted: 135.7\n"
     ]
    }
   ],
   "source": [
    "for actual,predicted in zip(testy[:10],lin_predictions[:10]):\n",
    "    print(f'Actual: {actual :.2f}   | Predicted: {predicted :.1f}')"
   ]
  },
  {
   "cell_type": "code",
   "execution_count": 382,
   "id": "739ae76d-693f-424a-8ca7-ec38b88e0fc7",
   "metadata": {},
   "outputs": [
    {
     "data": {
      "image/png": "[encoded data removed]",
      "text/plain": [
       "<Figure size 576x432 with 1 Axes>"
      ]
     },
     "metadata": {},
     "output_type": "display_data"
    }
   ],
   "source": [
    "from scipy import stats\n",
    "x = testy\n",
    "y = lin_predictions\n",
    "\n",
    "slope, intercept , r, p, std_err = stats.linregress(x,y)\n",
    "\n",
    "def myfun(x):\n",
    "    return slope * x + intercept\n",
    "\n",
    "my_model  = list(map(myfun,x))\n",
    "\n",
    "plt.figure(figsize=(8,6))\n",
    "plt.scatter(x,y, label='Actual data')\n",
    "plt.plot(x, myfun(x), color='red', label='Regression line')\n",
    "plt.ylabel(\"Predicted BWT\")\n",
    "plt.title(\"Actual vs Predicted\")\n",
    "plt.legend()\n",
    "plt.grid(True)\n",
    "plt.show()"
   ]
  },
  {
   "cell_type": "markdown",
   "id": "f4f91a25-2fed-427d-96ad-db20001178e2",
   "metadata": {},
   "source": [
    "#### Interpretation:\n",
    "Interpretation\n",
    "Mean Squared Error (MSE): 227.01\n",
    "The MSE measures how far off your model's predictions are from the actual values, on average, in squared units. A lower MSE means better predictive accuracy.\n",
    "\n",
    "In this case, an MSE of 227.01 suggests that there is a significant gap between predicted and actual values, indicating the model's predictions are not very precise.\n",
    "\n",
    "R-squared (R²): 0.27\n",
    "R² indicates how much of the variation in the target variable is explained by the model. It ranges from 0 (no explanatory power) to 1 (perfect explanation).\n",
    "\n",
    "An R² of 0.27 means your model is only capturing 27% of the variance in the target variable. This is relatively low and suggests that the model is missing important patterns in the data."
   ]
  },
  {
   "cell_type": "markdown",
   "id": "55554f43-8099-48a9-9e63-232248e01a23",
   "metadata": {},
   "source": [
    "### Random Forest "
   ]
  },
  {
   "cell_type": "code",
   "execution_count": 385,
   "id": "8a28949c-6dfc-44f1-b51e-66c92fc8df64",
   "metadata": {},
   "outputs": [
    {
     "name": "stdout",
     "output_type": "stream",
     "text": [
      "Mean Squared Error is : 247.20\n",
      "R-Suared is: 0.21\n"
     ]
    }
   ],
   "source": [
    "from sklearn.ensemble import RandomForestRegressor as RFR\n",
    "\n",
    "#rf_model = RFR(n_jobs = 1, n_estimators=100, random_state=42)\n",
    "rf_model = RFR(random_state = 42)\n",
    "rf_model.fit(trainx,trainy)\n",
    "rf_predicton = rf_model.predict(testx)\n",
    "rf_mse = mean_squared_error(testy, rf_predicton)\n",
    "rf_r2 = r2_score(testy, rf_predicton)\n",
    "print(f\"Mean Squared Error is : {rf_mse:.2f}\" )\n",
    "print(f\"R-Suared is: {rf_r2:.2f}\" )"
   ]
  },
  {
   "cell_type": "markdown",
   "id": "d9b34d11-50e7-49b6-995f-647cc3b8a01b",
   "metadata": {},
   "source": [
    "#### Model Evaluation – Random Forest Regressor\n",
    "Mean Squared Error (MSE): 247.20\n",
    "MSE measures the average squared difference between the predicted and actual values. A lower MSE means your predictions are closer to the actual outcomes.\n",
    "\n",
    "An MSE of 247.20 indicates a relatively high prediction error. On average, your model's predictions deviate quite a bit from the true values.\n",
    "\n",
    "R-squared (R²): 0.21\n",
    "R² indicates how much of the variability in the target variable is explained by the model. It ranges from 0 (no explanatory power) to 1 (perfect prediction).\n",
    "\n",
    "An R² of 0.21 means that the model explains only 21% of the variance in the target variable, which is relatively low.\n",
    "\n",
    "This suggests that the model isn't capturing the underlying patterns in the data very well.\n",
    "\n",
    "Conclusion\n",
    "While Random Forest is a powerful algorithm, this specific model shows limited performance on your dataset. The relatively high MSE and low R² suggest:\n",
    "\n",
    "The model's predictions aren't very accurate.\n",
    "\n",
    "A large portion of the variability in the target remains unexplained."
   ]
  },
  {
   "cell_type": "code",
   "execution_count": 386,
   "id": "3ac081b4-7e50-4981-b5a6-92e9039bb807",
   "metadata": {},
   "outputs": [
    {
     "data": {
      "image/png": "[encoded data removed]",
      "text/plain": [
       "<Figure size 576x432 with 1 Axes>"
      ]
     },
     "metadata": {},
     "output_type": "display_data"
    }
   ],
   "source": [
    "feature_importances = rf_model.feature_importances_\n",
    "feature_names = X.columns\n",
    "sorted_indices = feature_importances.argsort()[::-1]\n",
    "\n",
    "plt.figure(figsize=(8, 6))\n",
    "plt.title(\"Feature Importance (Random Forest)\")\n",
    "plt.bar(range(X.shape[1]), feature_importances[sorted_indices], align=\"center\")\n",
    "plt.xticks(range(X.shape[1]), feature_names[sorted_indices], rotation=90)\n",
    "plt.tight_layout()\n",
    "plt.show()"
   ]
  },
  {
   "cell_type": "markdown",
   "id": "973e1a46-ef96-4651-99ae-ae12cf91c564",
   "metadata": {},
   "source": [
    "### GradientBoostingRegressor"
   ]
  },
  {
   "cell_type": "code",
   "execution_count": 389,
   "id": "c999a911-9863-469f-b81a-6cb292176181",
   "metadata": {},
   "outputs": [
    {
     "name": "stdout",
     "output_type": "stream",
     "text": [
      "Mean Squared Error: 230.70\n",
      "R-squared: 0.26\n"
     ]
    }
   ],
   "source": [
    "from sklearn.ensemble import GradientBoostingRegressor as GBR\n",
    "\n",
    "gbr = GBR(n_estimators=100, learning_rate=0.1, max_depth=3, random_state=42)\n",
    "\n",
    "gbr.fit(trainx, trainy)\n",
    "\n",
    "gbr_pred = gbr.predict(testx)\n",
    "\n",
    "gbr_mse = mean_squared_error(testy, gbr_pred)\n",
    "gbr_r2 = r2_score(testy, gbr_pred)\n",
    "\n",
    "print(f\"Mean Squared Error: {gbr_mse:.2f}\")\n",
    "print(f\"R-squared: {gbr_r2:.2f}\")"
   ]
  },
  {
   "cell_type": "markdown",
   "id": "f084be67-bb01-40b2-bb77-3f70b50eccc2",
   "metadata": {},
   "source": [
    "### Model Evaluation – Gradient Boosting Regressor\n",
    "#### Mean Squared Error (MSE): 230.70\n",
    "The MSE shows the average squared difference between predicted and actual values.\n",
    "\n",
    "An MSE of 230.70 suggests a slight improvement compared to the previous model (MSE was 247.20 with Random Forest).\n",
    "\n",
    "Lower MSE = better prediction accuracy.\n",
    "\n",
    "#### R-squared (R²): 0.26\n",
    "R² explains how much of the variance in the target variable is captured by the model.\n",
    "\n",
    "An R² of 0.26 means the model explains 26% of the variance — a small improvement over the previous R² of 0.21 from Random Forest.\n",
    "\n",
    "#### Conclusion\n",
    "Gradient Boosting Regressor performed marginally better than the Random Forest:\n",
    "\n",
    "MSE dropped from 247.20 to 230.70\n",
    "\n",
    "R² increased from 0.21 to 0.26"
   ]
  },
  {
   "cell_type": "markdown",
   "id": "7e4ac14e-66de-4e5f-97a7-fb62535a30b3",
   "metadata": {},
   "source": [
    "### Actual vs Predicted Scatter Plot"
   ]
  },
  {
   "cell_type": "code",
   "execution_count": 393,
   "id": "95c0d17a-084a-452d-8c44-b2d3652d512c",
   "metadata": {},
   "outputs": [
    {
     "data": {
      "image/png": "[encoded data removed]",
      "text/plain": [
       "<Figure size 576x432 with 1 Axes>"
      ]
     },
     "metadata": {},
     "output_type": "display_data"
    }
   ],
   "source": [
    "plt.figure(figsize=(8,6))\n",
    "plt.scatter(range(len(testy)), testy, label='Actual', color='blue')\n",
    "plt.scatter(range(len(gbr_pred)), gbr_pred, label='Predicted', color='green')\n",
    "plt.title(\"Actual vs Predicted\")\n",
    "plt.xlabel(\"Sample Index\")\n",
    "plt.ylabel(\"Target Value\")\n",
    "plt.legend()\n",
    "plt.grid(True)\n",
    "plt.show()"
   ]
  }
 ],
 "metadata": {
  "kernelspec": {
   "display_name": "Python 3 (ipykernel)",
   "language": "python",
   "name": "python3"
  },
  "language_info": {
   "codemirror_mode": {
    "name": "ipython",
    "version": 3
   },
   "file_extension": ".py",
   "mimetype": "text/x-python",
   "name": "python",
   "nbconvert_exporter": "python",
   "pygments_lexer": "ipython3",
   "version": "3.9.12"
  }
 },
 "nbformat": 4,
 "nbformat_minor": 5
}
